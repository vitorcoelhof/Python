{
  "nbformat": 4,
  "nbformat_minor": 0,
  "metadata": {
    "colab": {
      "provenance": [],
      "toc_visible": true,
      "authorship_tag": "ABX9TyPWjSUusKJnz98BwCLuGfwe",
      "include_colab_link": true
    },
    "kernelspec": {
      "name": "python3",
      "display_name": "Python 3"
    },
    "language_info": {
      "name": "python"
    }
  },
  "cells": [
    {
      "cell_type": "markdown",
      "metadata": {
        "id": "view-in-github",
        "colab_type": "text"
      },
      "source": [
        "<a href=\"https://colab.research.google.com/github/vitorcoelhof/Python/blob/main/curso_python.ipynb\" target=\"_parent\"><img src=\"https://colab.research.google.com/assets/colab-badge.svg\" alt=\"Open In Colab\"/></a>"
      ]
    },
    {
      "cell_type": "code",
      "execution_count": null,
      "metadata": {
        "colab": {
          "base_uri": "https://localhost:8080/"
        },
        "id": "Ny8lxxygjrVq",
        "outputId": "03ceb0dc-a52a-4e8f-9dc4-6891609c36c2"
      },
      "outputs": [
        {
          "output_type": "stream",
          "name": "stdout",
          "text": [
            "Olá, Mundo!\n",
            "11\n",
            "74\n"
          ]
        }
      ],
      "source": [
        "#Primeiros comandos em python\n",
        "\n",
        "print('Olá, Mundo!')\n",
        "print(7+4)\n",
        "print('7'+'4')"
      ]
    },
    {
      "cell_type": "code",
      "source": [
        "# Recebendo variáveis\n",
        "nome = 'Guanabara'\n",
        "idade = 25\n",
        "peso = 75.8\n",
        "\n",
        "# Formato corrigido com f-string\n",
        "print(f'Meu sobrenome é {nome}, tenho {idade} anos e meu peso é {peso}')"
      ],
      "metadata": {
        "colab": {
          "base_uri": "https://localhost:8080/"
        },
        "id": "6MryqydamYLn",
        "outputId": "bc7db4be-5a36-42d6-a2b6-1b8e30fc9325"
      },
      "execution_count": null,
      "outputs": [
        {
          "output_type": "stream",
          "name": "stdout",
          "text": [
            "Meu sobrenome é Guanabara, tenho 25 anos e meu peso é 75.8\n"
          ]
        }
      ]
    },
    {
      "cell_type": "code",
      "source": [
        "nome = input('Qual seu nome')\n",
        "idade = input('Qual sua idade')\n",
        "peso = input('Qual seu peso')\n",
        "print(nome, idade, peso)"
      ],
      "metadata": {
        "colab": {
          "base_uri": "https://localhost:8080/"
        },
        "id": "ZZam5yL9ngai",
        "outputId": "1ec8864c-84db-4b3f-b579-cdabcee80c9e"
      },
      "execution_count": null,
      "outputs": [
        {
          "output_type": "stream",
          "name": "stdout",
          "text": [
            "Qual seu nomeVitor\n",
            "Qual sua idade30\n",
            "Qual seu peso70\n",
            "Vitor 30 70\n"
          ]
        }
      ]
    },
    {
      "cell_type": "code",
      "source": [
        "nome = input('Qual seu nome')\n",
        "\n",
        "print(f'Ola {nome} ! Prazer em te conhecer')"
      ],
      "metadata": {
        "colab": {
          "base_uri": "https://localhost:8080/"
        },
        "id": "D4JEwBSkom69",
        "outputId": "84e476ee-354c-4269-e5bc-c44194df1049"
      },
      "execution_count": null,
      "outputs": [
        {
          "output_type": "stream",
          "name": "stdout",
          "text": [
            "Qual seu nomeVitor\n",
            "Ola Vitor ! Prazer em te conhecer\n"
          ]
        }
      ]
    },
    {
      "cell_type": "code",
      "source": [
        "dia = input('dia do nascimento')\n",
        "mes = input('mes nascimento')\n",
        "ano = input('ano nascimento')\n",
        "\n",
        "print(f'Olá, você nasceu no dia {dia} de {mes} do ano de {ano}')"
      ],
      "metadata": {
        "colab": {
          "base_uri": "https://localhost:8080/"
        },
        "id": "QuGIecSOo8YG",
        "outputId": "5d2b31b7-e8d9-4323-eafc-c64b0d3e9899"
      },
      "execution_count": null,
      "outputs": [
        {
          "output_type": "stream",
          "name": "stdout",
          "text": [
            "dia do nascimento31\n",
            "mes nascimentomarço\n",
            "ano nascimento1994\n",
            "Olá, você nasceu no dia 31 de março do ano de 1994\n"
          ]
        }
      ]
    },
    {
      "cell_type": "code",
      "source": [
        "primeiro = input('Primeiro Numero: ')\n",
        "segundo  = input('Segundo Numero: ')\n",
        "\n",
        "print(f'A soma é {int(primeiro)+int(segundo)}')"
      ],
      "metadata": {
        "colab": {
          "base_uri": "https://localhost:8080/"
        },
        "id": "MC5garQ4pVN-",
        "outputId": "4b1c4aad-c62a-4fcc-e9c3-9d9da0bdc4e9"
      },
      "execution_count": null,
      "outputs": [
        {
          "output_type": "stream",
          "name": "stdout",
          "text": [
            "Primeiro Numero: 2\n",
            "Segundo Numero: 3\n",
            "A soma é 5\n"
          ]
        }
      ]
    },
    {
      "cell_type": "code",
      "source": [
        "primeiro = input('Primeiro Numero: ')\n",
        "segundo  = input('Segundo Numero: ')\n",
        "s = int(primeiro)+int(segundo)\n",
        "\n",
        "print(f'A soma é {s}')"
      ],
      "metadata": {
        "colab": {
          "base_uri": "https://localhost:8080/"
        },
        "id": "mh5hl64Jn0G7",
        "outputId": "5cd8f82e-0342-4b56-ae26-84f00bc296b7"
      },
      "execution_count": null,
      "outputs": [
        {
          "output_type": "stream",
          "name": "stdout",
          "text": [
            "Primeiro Numero: 2\n",
            "Segundo Numero: 3\n",
            "A soma é 5\n"
          ]
        }
      ]
    },
    {
      "cell_type": "code",
      "source": [
        "primeiro = int(input('Primeiro Numero: '))\n",
        "segundo  = int(input('Segundo Numero: '))\n",
        "s = primeiro+segundo\n",
        "\n",
        "print(f'A soma é {s}')"
      ],
      "metadata": {
        "colab": {
          "base_uri": "https://localhost:8080/"
        },
        "id": "-eodZ5xLojmt",
        "outputId": "7652968a-b4df-46d6-9846-7501dd676da1"
      },
      "execution_count": null,
      "outputs": [
        {
          "output_type": "stream",
          "name": "stdout",
          "text": [
            "Primeiro Numero: 2\n",
            "Segundo Numero: 3\n",
            "A soma é 5\n"
          ]
        }
      ]
    },
    {
      "cell_type": "code",
      "source": [
        "primeiro = int(input('Primeiro Numero: '))\n",
        "segundo  = int(input('Segundo Numero: '))\n",
        "s = primeiro+segundo\n",
        "\n",
        "print('A soma entre {} e {} resulta {}'.format(primeiro, segundo, s))\n",
        "print(str(s).isnumeric())"
      ],
      "metadata": {
        "colab": {
          "base_uri": "https://localhost:8080/"
        },
        "id": "XxzVc5JcpRRg",
        "outputId": "b6dabe3f-304f-47d3-a6be-a0ed7b7e2e04"
      },
      "execution_count": null,
      "outputs": [
        {
          "output_type": "stream",
          "name": "stdout",
          "text": [
            "Primeiro Numero: 2\n",
            "Segundo Numero: 3\n",
            "A soma entre 2 e 3 resulta 5\n",
            "True\n"
          ]
        }
      ]
    },
    {
      "cell_type": "code",
      "source": [
        "pow(4,2)"
      ],
      "metadata": {
        "colab": {
          "base_uri": "https://localhost:8080/"
        },
        "id": "qPT95AJ9rp1r",
        "outputId": "62264e8f-d407-483e-8400-3763d99c0931"
      },
      "execution_count": null,
      "outputs": [
        {
          "output_type": "execute_result",
          "data": {
            "text/plain": [
              "16"
            ]
          },
          "metadata": {},
          "execution_count": 17
        }
      ]
    },
    {
      "cell_type": "code",
      "source": [
        "n2 = int(input('digite um numero: '))\n",
        "n1= 10\n",
        "s = n1 * n2\n",
        "b = n1 // n2\n",
        "s = n1**2\n",
        "\n",
        "print('A multiplicação entre {} e {} é {}'.format(n1, n2, s), end = ' \\n')\n",
        "print('O divisor inteiro da divisão entre {} e {} é {}'.format(n1, n2, b))"
      ],
      "metadata": {
        "colab": {
          "base_uri": "https://localhost:8080/"
        },
        "id": "Xu6aIAd7r8yT",
        "outputId": "a1e81f86-6dd2-4945-d435-c20ffc367eb2"
      },
      "execution_count": null,
      "outputs": [
        {
          "output_type": "stream",
          "name": "stdout",
          "text": [
            "digite um numero: 10\n",
            "A multiplicação entre 10 e 10 é 100 \n",
            "O divisor inteiro da divisão entre 10 e 10 é 1\n"
          ]
        }
      ]
    },
    {
      "cell_type": "code",
      "source": [
        "#Desafio 5\n",
        "n1 = int(input('digite um numero: '))\n",
        "n2= n1+1\n",
        "n3 = n1-1\n",
        "\n",
        "print('O sucessor e o antecessor de {} é respectivamente {} e {}'.format(n1, n2, n3), end = ' \\n')"
      ],
      "metadata": {
        "colab": {
          "base_uri": "https://localhost:8080/"
        },
        "id": "cbE7QMvis25x",
        "outputId": "5dda9cac-49ce-463c-e707-63450435a240"
      },
      "execution_count": null,
      "outputs": [
        {
          "output_type": "stream",
          "name": "stdout",
          "text": [
            "digite um numero: 1\n",
            "O sucessor e o antecessor de 1 é respectivamente 2 e 0 \n"
          ]
        }
      ]
    },
    {
      "cell_type": "code",
      "source": [
        "#Desafio 6\n",
        "n1 = int(input('digite um numero: '))\n",
        "n2= n1*2\n",
        "n3 = n1*3\n",
        "n4 = pow(n1, (1/2))\n",
        "\n",
        "print('O dobro do número {} é {} \\n O triplo do número {} é {} \\n A potencia do número {} é {}'.format(n1, n2, n1, n3, n1, n4), end = ' \\n')"
      ],
      "metadata": {
        "colab": {
          "base_uri": "https://localhost:8080/"
        },
        "id": "bESTLSkatH8c",
        "outputId": "57093357-8a7d-4c4f-e9b9-ea46ec2b7dd5"
      },
      "execution_count": null,
      "outputs": [
        {
          "output_type": "stream",
          "name": "stdout",
          "text": [
            "digite um numero: 4\n",
            "O dobro do número 4 é 8 \n",
            " O triplo do número 4 é 12 \n",
            " A potencia do número 4 é 2.0 \n"
          ]
        }
      ]
    },
    {
      "cell_type": "code",
      "source": [
        "#desafio 7\n",
        "\n",
        "#Desafio 6\n",
        "n1 = int(input('digite um numero: '))\n",
        "n2= int(input('digite um numero: '))\n",
        "n3 = (n1+n2)/2\n",
        "\n",
        "\n",
        "print('A média dos números {} e {} é {}'.format(n1, n2, n3), end = ' \\n')"
      ],
      "metadata": {
        "colab": {
          "base_uri": "https://localhost:8080/"
        },
        "id": "nIbPMiJ3tva1",
        "outputId": "6e52ead1-ace8-4bb4-e5a0-c3fc8c6fef61"
      },
      "execution_count": 1,
      "outputs": [
        {
          "output_type": "stream",
          "name": "stdout",
          "text": [
            "digite um numero: 2\n",
            "digite um numero: 3\n",
            "A média dos números 2 e 3 é 2.5 \n"
          ]
        }
      ]
    },
    {
      "cell_type": "code",
      "source": [
        "#Aula 24 - modulos\n",
        "\n",
        "import math\n",
        "\n",
        "num = int(input('digite o número: '))\n",
        "\n",
        "raiz = math.sqrt(num)\n",
        "\n",
        "print(f'A raiz quadrada de {num} é {math.ceil(raiz)}')\n",
        "\n",
        "\n",
        "\n"
      ],
      "metadata": {
        "id": "ydt8rwQquhuc",
        "colab": {
          "base_uri": "https://localhost:8080/"
        },
        "outputId": "9fa6a120-4b4f-4a5a-ee23-ca1e324eb735"
      },
      "execution_count": 4,
      "outputs": [
        {
          "output_type": "stream",
          "name": "stdout",
          "text": [
            "digite o número: 5\n",
            "A raiz quadrada de 5 é 3\n"
          ]
        }
      ]
    },
    {
      "cell_type": "code",
      "source": [
        "!pip install emoji\n",
        "import emoji\n",
        "\n",
        "print(emoji.emojize('Olá, Mundo :sunglasses:'))"
      ],
      "metadata": {
        "colab": {
          "base_uri": "https://localhost:8080/"
        },
        "id": "zscg38QD4ffL",
        "outputId": "103e3aa2-aff5-442c-eb7b-02bd066192d5"
      },
      "execution_count": 12,
      "outputs": [
        {
          "output_type": "stream",
          "name": "stdout",
          "text": [
            "Requirement already satisfied: emoji in /usr/local/lib/python3.11/dist-packages (2.14.1)\n",
            "Olá, Mundo 🕶️\n"
          ]
        }
      ]
    },
    {
      "cell_type": "code",
      "source": [
        "import math\n",
        "\n",
        "cateto1 = float(input('digite o cateto oposto: '))\n",
        "cateto2 = float(input('digite o cateto adjacente: '))\n",
        "\n",
        "hipotenusa = math.hypot(cateto1, cateto2)\n",
        "\n",
        "print('A hipotenusa dos catetos {} e {} é {}'.format(cateto1, cateto2, hipotenusa))"
      ],
      "metadata": {
        "colab": {
          "base_uri": "https://localhost:8080/"
        },
        "id": "h38lZvs048sR",
        "outputId": "f3a9dfb2-24d8-41c0-e0b2-f88c3259bd09"
      },
      "execution_count": 15,
      "outputs": [
        {
          "output_type": "stream",
          "name": "stdout",
          "text": [
            "digite o cateto oposto: 2\n",
            "digite o cateto adjacente: 4\n",
            "A hipotenusa dos catetos 2.0 e 4.0 é 4.47213595499958\n"
          ]
        }
      ]
    },
    {
      "cell_type": "code",
      "source": [
        "import random\n",
        "\n",
        "nome1 = input('digite o nome do primeiro aluno: ')\n",
        "nome2 = input('digite o nome do segundo aluno: ')\n",
        "nome3 = input('digite o nome do terceiro aluno: ')\n",
        "nome4 = input('digite o nome do quarto aluno: ')\n",
        "\n",
        "sorteado = random.choice([nome1, nome2, nome3, nome4])\n",
        "\n",
        "print('O aluno sorteado foi {}'.format(sorteado))"
      ],
      "metadata": {
        "colab": {
          "base_uri": "https://localhost:8080/"
        },
        "id": "fmwBrrpD5qU9",
        "outputId": "ecf7f446-10be-44ec-ac4b-cd66bb93c14c"
      },
      "execution_count": 16,
      "outputs": [
        {
          "output_type": "stream",
          "name": "stdout",
          "text": [
            "digite o nome do primeiro aluno: joao\n",
            "digite o nome do segundo aluno: vitor\n",
            "digite o nome do terceiro aluno: manu\n",
            "digite o nome do quarto aluno: gabriel\n",
            "O aluno sorteado foi vitor\n"
          ]
        }
      ]
    },
    {
      "cell_type": "code",
      "source": [
        "from random import shuffle\n",
        "\n",
        "nome1 = str(input('digite o nome do primeiro aluno: '))\n",
        "nome2 = str(input('digite o nome do segundo aluno: '))\n",
        "nome3 = str(input('digite o nome do terceiro aluno: '))\n",
        "nome4 = str(input('digite o nome do quarto aluno: '))\n",
        "\n",
        "lista = [nome1, nome2, nome3, nome4]\n",
        "\n",
        "shuffle(lista)\n",
        "\n",
        "print('A ordem sorteada foi ')\n",
        "print(shuffle)"
      ],
      "metadata": {
        "colab": {
          "base_uri": "https://localhost:8080/"
        },
        "id": "TjG7M2eX59Ga",
        "outputId": "26548715-62bb-469b-bb9f-0d3099276619"
      },
      "execution_count": 26,
      "outputs": [
        {
          "output_type": "stream",
          "name": "stdout",
          "text": [
            "digite o nome do primeiro aluno: a\n",
            "digite o nome do segundo aluno: b\n",
            "digite o nome do terceiro aluno: c\n",
            "digite o nome do quarto aluno: d\n",
            "A ordem sorteada foi \n",
            "<bound method Random.shuffle of <random.Random object at 0x2427d890>>\n"
          ]
        }
      ]
    },
    {
      "cell_type": "code",
      "source": [
        "!pip install frase"
      ],
      "metadata": {
        "colab": {
          "base_uri": "https://localhost:8080/"
        },
        "id": "LeCJ5ks6629G",
        "outputId": "4a26ec56-0845-4359-f94a-781ee8bd18db"
      },
      "execution_count": 27,
      "outputs": [
        {
          "output_type": "stream",
          "name": "stdout",
          "text": [
            "Collecting frase\n",
            "  Downloading frase-0.0.5.tar.gz (12 kB)\n",
            "  \u001b[1;31merror\u001b[0m: \u001b[1msubprocess-exited-with-error\u001b[0m\n",
            "  \n",
            "  \u001b[31m×\u001b[0m \u001b[32mpython setup.py egg_info\u001b[0m did not run successfully.\n",
            "  \u001b[31m│\u001b[0m exit code: \u001b[1;36m1\u001b[0m\n",
            "  \u001b[31m╰─>\u001b[0m See above for output.\n",
            "  \n",
            "  \u001b[1;35mnote\u001b[0m: This error originates from a subprocess, and is likely not a problem with pip.\n",
            "  Preparing metadata (setup.py) ... \u001b[?25l\u001b[?25herror\n",
            "\u001b[1;31merror\u001b[0m: \u001b[1mmetadata-generation-failed\u001b[0m\n",
            "\n",
            "\u001b[31m×\u001b[0m Encountered error while generating package metadata.\n",
            "\u001b[31m╰─>\u001b[0m See above for output.\n",
            "\n",
            "\u001b[1;35mnote\u001b[0m: This is an issue with the package mentioned above, not pip.\n",
            "\u001b[1;36mhint\u001b[0m: See above for details.\n"
          ]
        }
      ]
    },
    {
      "cell_type": "code",
      "source": [
        "frase = 'vitor'\n",
        "frase.upper()\n",
        "frase.count('v')\n",
        "frase.replace('vitor', 'VITOR')"
      ],
      "metadata": {
        "colab": {
          "base_uri": "https://localhost:8080/",
          "height": 35
        },
        "id": "2MhBXqYG7CZx",
        "outputId": "15376ec7-c3a8-45f4-cf32-0f4d4472ba80"
      },
      "execution_count": 37,
      "outputs": [
        {
          "output_type": "execute_result",
          "data": {
            "text/plain": [
              "'VITOR'"
            ],
            "application/vnd.google.colaboratory.intrinsic+json": {
              "type": "string"
            }
          },
          "metadata": {},
          "execution_count": 37
        }
      ]
    },
    {
      "cell_type": "code",
      "source": [
        "#Condições\n",
        "\n",
        "tempo = int(input('quantos anos tem seu carro: '))\n",
        "\n",
        "if tempo <=3:\n",
        "  print('carro novo')\n",
        "else:\n",
        "  print('carro velho')\n",
        "print('--fim--')"
      ],
      "metadata": {
        "colab": {
          "base_uri": "https://localhost:8080/"
        },
        "id": "A7ohUxpJ9QAp",
        "outputId": "c02877a4-6719-44dd-f110-78f0c653ce29"
      },
      "execution_count": 39,
      "outputs": [
        {
          "output_type": "stream",
          "name": "stdout",
          "text": [
            "quantos anos tem seu carro: 3\n",
            "carro novo\n",
            "--fim--\n"
          ]
        }
      ]
    },
    {
      "cell_type": "code",
      "source": [
        "#Condições\n",
        "\n",
        "tempo = int(input('quantos anos tem seu carro: '))\n",
        "\n",
        "print('carro novo' if tempo <=3 else 'carro velho')\n",
        "print('--fim--')\n"
      ],
      "metadata": {
        "colab": {
          "base_uri": "https://localhost:8080/"
        },
        "id": "U6NnUBiT-Ec6",
        "outputId": "74a27fa9-ccd2-4e87-91b4-67b9292cd595"
      },
      "execution_count": 40,
      "outputs": [
        {
          "output_type": "stream",
          "name": "stdout",
          "text": [
            "quantos anos tem seu carro: 5\n",
            "carro velho\n",
            "--fim--\n"
          ]
        }
      ]
    },
    {
      "cell_type": "code",
      "source": [
        "nome = str(input('Qual é seu nome? '))\n",
        "if nome == 'Gustavo':\n",
        "  print('Que nome lindo você tem!')\n",
        "else:\n",
        "  print('Seu nome é tão normal!')\n",
        "print(f'Bom dia, {nome}')"
      ],
      "metadata": {
        "colab": {
          "base_uri": "https://localhost:8080/"
        },
        "id": "IoAhgi88-o4a",
        "outputId": "112c6a94-2d97-4c02-fb1e-c7be9bce387b"
      },
      "execution_count": 42,
      "outputs": [
        {
          "output_type": "stream",
          "name": "stdout",
          "text": [
            "Qual é seu nome? Gustavo\n",
            "Que nome lindo você tem!\n",
            "Bom dia, Gustavo\n"
          ]
        }
      ]
    },
    {
      "cell_type": "code",
      "source": [
        "nota1 = float(input('Digite a primeira nota: '))\n",
        "nota2 = float(input('Digite a segunda nota: '))\n",
        "m = (nota1+nota2)/2\n",
        "\n",
        "print('A sua média foi {:.2f}'.format(m))\n",
        "\n",
        "if m >=6:\n",
        "  print('Sua média foi boa! Parabéns!')\n",
        "else:\n",
        "  print('Sua média foi ruim! Estude mais')"
      ],
      "metadata": {
        "colab": {
          "base_uri": "https://localhost:8080/"
        },
        "id": "rJ4Q9x7M_Dj4",
        "outputId": "ddfbc980-4afb-4fb9-f414-7f0eea6dca0d"
      },
      "execution_count": 46,
      "outputs": [
        {
          "output_type": "stream",
          "name": "stdout",
          "text": [
            "Digite a primeira nota: 5\n",
            "Digite a segunda nota: 10\n",
            "A sua média foi 7.50\n",
            "Sua média foi boa! Parabéns!\n"
          ]
        }
      ]
    },
    {
      "cell_type": "code",
      "source": [
        "import random\n",
        "\n",
        "numero = random.randint(1,5)\n",
        "print(numero)\n",
        "\n",
        "n1 = int(input('Digite um numero: '))\n",
        "\n",
        "if n1 == numero:\n",
        "  print('Parabens você acertou')\n",
        "else:\n",
        "  print('Que pena você errou')"
      ],
      "metadata": {
        "colab": {
          "base_uri": "https://localhost:8080/"
        },
        "id": "riYYXUX0_v8o",
        "outputId": "2a144cd0-4d89-45f2-9040-d78bbcd7d2e4"
      },
      "execution_count": 64,
      "outputs": [
        {
          "output_type": "stream",
          "name": "stdout",
          "text": [
            "3\n",
            "Digite um numero: 3\n",
            "Parabens você acertou\n"
          ]
        }
      ]
    },
    {
      "cell_type": "code",
      "source": [
        "import random\n",
        "\n",
        "velocidade = int(input('Digite um numero: '))\n",
        "\n",
        "multa = (velocidade-80)*7\n",
        "\n",
        "if velocidade <= 80:\n",
        "  print('Sem Multa')\n",
        "else:\n",
        "  print('Sua multa foi de R$ {:.1f}'.format(multa))"
      ],
      "metadata": {
        "colab": {
          "base_uri": "https://localhost:8080/"
        },
        "id": "bPJaPSmrAPfR",
        "outputId": "71964c5f-bd4a-473e-8aa6-e1a55a161e6c"
      },
      "execution_count": 67,
      "outputs": [
        {
          "output_type": "stream",
          "name": "stdout",
          "text": [
            "Digite um numero: 100\n",
            "Sua multa foi de R$ 140.0\n"
          ]
        }
      ]
    },
    {
      "cell_type": "code",
      "source": [
        "numero = int(input('Digite um numero: '))\n",
        "\n",
        "if numero % 2 == 0:\n",
        "  print('O numero é par')\n",
        "else:\n",
        "  print('O numero é impar')\n"
      ],
      "metadata": {
        "colab": {
          "base_uri": "https://localhost:8080/"
        },
        "id": "xYfPh1i2AzxL",
        "outputId": "2a0e14b2-5f04-4af2-8400-ebf6369dcf07"
      },
      "execution_count": 68,
      "outputs": [
        {
          "output_type": "stream",
          "name": "stdout",
          "text": [
            "Digite um numero: 5\n",
            "O numero é impar\n"
          ]
        }
      ]
    },
    {
      "cell_type": "code",
      "source": [
        "distancia = int(input('digite a distancia: '))\n",
        "\n",
        "if distancia <= 200:\n",
        "  print('passagem custa R$ {}'.format(distancia*0.5))\n",
        "else:\n",
        "  print('passagem custa R$ {}'.format(distancia*0.45))"
      ],
      "metadata": {
        "colab": {
          "base_uri": "https://localhost:8080/"
        },
        "id": "lDF-sMAWA4SQ",
        "outputId": "e1ad5cc7-faa0-4796-9508-5bcb4ef1f356"
      },
      "execution_count": 71,
      "outputs": [
        {
          "output_type": "stream",
          "name": "stdout",
          "text": [
            "digite a distancia: 1000\n",
            "passagem custa R$ 450.0\n"
          ]
        }
      ]
    },
    {
      "cell_type": "code",
      "source": [
        "salario = int(input('digite o salario: '))\n",
        "\n",
        "if salario <= 1250:\n",
        "  print('O novo salario é R$ {}'.format(salario*1.15))\n",
        "else:\n",
        "  print('O novo salario é R$ {}'.format(salario*1.10))\n"
      ],
      "metadata": {
        "id": "feVyw83UBik4"
      },
      "execution_count": null,
      "outputs": []
    },
    {
      "cell_type": "code",
      "source": [
        "a = int(input('digite o primeiro numero: '))\n",
        "b = int(input('digite o segundo numero: '))\n",
        "c = int(input('digite o terceiro numero: '))\n",
        "\n",
        "if a < (b+c) and b < (c+a) and c < (a+b):\n",
        "  print('triangulo pode ser formado com {}, {} e {}'.format(a,b,c))\n",
        "else:\n",
        "   print('triangulo nao pode ser formado')\n",
        "\n",
        "\n"
      ],
      "metadata": {
        "colab": {
          "base_uri": "https://localhost:8080/"
        },
        "id": "UmR32xdYCBPO",
        "outputId": "0a9ef21e-c106-402d-8e35-9dc36ea9165d"
      },
      "execution_count": 75,
      "outputs": [
        {
          "output_type": "stream",
          "name": "stdout",
          "text": [
            "digite o primeiro numero: 1\n",
            "digite o segundo numero: 2\n",
            "digite o terceiro numero: 17\n",
            "triangulo nao pode ser formado\n"
          ]
        }
      ]
    },
    {
      "cell_type": "code",
      "source": [],
      "metadata": {
        "id": "wEdMOsvqCBJV"
      },
      "execution_count": null,
      "outputs": []
    }
  ]
}